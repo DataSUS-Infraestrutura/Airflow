{
 "cells": [
  {
   "cell_type": "code",
   "execution_count": null,
   "metadata": {},
   "outputs": [],
   "source": [
    "from minio import Minio\n",
    "from minio.error import S3Error\n",
    "\n",
    "# Press the green button in the gutter to run the script.\n",
    "if __name__ == '__main__':\n",
    "\n",
    "    # client = Minio(\"localhost:9000\", secure=False,\n",
    "    #                access_key=\"DBmwcqOcEpW16SMKNR7i\",\n",
    "    #                secret_key=\"iYmk1FuK4RucU1u2mgrG63NZpT9B2AS5SbG7wajy\",\n",
    "    #                )\n",
    "\n",
    "    client = Minio(\"10.100.100.61:9000\",\n",
    "                   access_key=\"XbXYqaZYnHyJt11oUUpH\",\n",
    "                   secret_key=\"vgOM9AZqwt9Oa2GPPVPJ4Eizn47HJT2JQN37sJQd\",\n",
    "                   secure=False\n",
    "                   )\n",
    "\n",
    "    # The file to upload, change this path if needed\n",
    "    source_file = \"test-file.txt\"\n",
    "\n",
    "    # The destination bucket and filename on the MinIO server\n",
    "    bucket_name = \"dados-da-origem-sim\"\n",
    "    destination_file = \"fabio-file.txt\"\n",
    "\n",
    "    # Make the bucket if it doesn't exist.\n",
    "    found = client.bucket_exists(bucket_name)\n",
    "    if not found:\n",
    "        client.make_bucket(bucket_name)\n",
    "        print(\"Created bucket\", bucket_name)\n",
    "    else:\n",
    "        print(\"Bucket\", bucket_name, \"already exists\")\n",
    "\n",
    "    # Upload the file, renaming it in the process\n",
    "    client.fput_object(\n",
    "        bucket_name, destination_file, source_file,\n",
    "    )\n",
    "    print(\n",
    "        source_file, \"successfully uploaded as object\",\n",
    "        destination_file, \"to bucket\", bucket_name,\n",
    "    )\n"
   ]
  }
 ],
 "metadata": {
  "kernelspec": {
   "display_name": "Python 3",
   "language": "python",
   "name": "python3"
  },
  "language_info": {
   "codemirror_mode": {
    "name": "ipython",
    "version": 3
   },
   "file_extension": ".py",
   "mimetype": "text/x-python",
   "name": "python",
   "nbconvert_exporter": "python",
   "pygments_lexer": "ipython3",
   "version": "3.10.12"
  }
 },
 "nbformat": 4,
 "nbformat_minor": 2
}
