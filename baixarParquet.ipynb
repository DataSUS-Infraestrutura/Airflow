{
 "cells": [
  {
   "cell_type": "code",
   "execution_count": 1,
   "metadata": {},
   "outputs": [],
   "source": [
    "from pysus.ftp.databases.sia import SIA\n",
    "sia = SIA().load() "
   ]
  },
  {
   "cell_type": "code",
   "execution_count": 3,
   "metadata": {},
   "outputs": [
    {
     "name": "stdout",
     "output_type": "stream",
     "text": [
      "{'AB': 'APAC de Cirurgia Bariátrica', 'ABO': 'APAC de Acompanhamento Pós Cirurgia Bariátrica', 'ACF': 'APAC de Confecção de Fístula', 'AD': 'APAC de Laudos Diversos', 'AM': 'APAC de Medicamentos', 'AMP': 'APAC de Acompanhamento Multiprofissional', 'AN': 'APAC de Nefrologia', 'AQ': 'APAC de Quimioterapia', 'AR': 'APAC de Radioterapia', 'ATD': 'APAC de Tratamento Dialítico', 'BI': 'Boletim de Produção Ambulatorial individualizado', 'IMPBO': '', 'PA': 'Produção Ambulatorial', 'PAM': '', 'PAR': '', 'PAS': '', 'PS': 'RAAS Psicossocial', 'SAD': 'RAAS de Atenção Domiciliar'}\n"
     ]
    }
   ],
   "source": [
    "print(SIA.groups)"
   ]
  },
  {
   "cell_type": "code",
   "execution_count": 7,
   "metadata": {},
   "outputs": [
    {
     "ename": "ValueError",
     "evalue": "not enough values to unpack (expected 2, got 1)",
     "output_type": "error",
     "traceback": [
      "\u001b[0;31m---------------------------------------------------------------------------\u001b[0m",
      "\u001b[0;31mValueError\u001b[0m                                Traceback (most recent call last)",
      "Cell \u001b[0;32mIn[7], line 1\u001b[0m\n\u001b[0;32m----> 1\u001b[0m arquivos \u001b[38;5;241m=\u001b[39m \u001b[43msia\u001b[49m\u001b[38;5;241;43m.\u001b[39;49m\u001b[43mget_files\u001b[49m\u001b[43m(\u001b[49m\u001b[38;5;124;43m\"\u001b[39;49m\u001b[38;5;124;43mAB\u001b[39;49m\u001b[38;5;124;43m\"\u001b[39;49m\u001b[43m,\u001b[49m\u001b[43m \u001b[49m\u001b[43muf\u001b[49m\u001b[38;5;241;43m=\u001b[39;49m\u001b[38;5;124;43m\"\u001b[39;49m\u001b[38;5;124;43mPR\u001b[39;49m\u001b[38;5;124;43m\"\u001b[39;49m\u001b[43m,\u001b[49m\u001b[43m \u001b[49m\u001b[43myear\u001b[49m\u001b[38;5;241;43m=\u001b[39;49m\u001b[38;5;241;43m2020\u001b[39;49m\u001b[43m)\u001b[49m\n\u001b[1;32m      2\u001b[0m \u001b[38;5;28mprint\u001b[39m(\u001b[38;5;124mf\u001b[39m\u001b[38;5;124m\"\u001b[39m\u001b[38;5;124mArquivos para \u001b[39m\u001b[38;5;132;01m{\u001b[39;00mfederacao\u001b[38;5;132;01m}\u001b[39;00m\u001b[38;5;124m: \u001b[39m\u001b[38;5;132;01m{\u001b[39;00marquivos\u001b[38;5;132;01m}\u001b[39;00m\u001b[38;5;124m\"\u001b[39m)\n\u001b[1;32m      3\u001b[0m \u001b[38;5;28;01mif\u001b[39;00m arquivos:\n",
      "File \u001b[0;32m~/.local/lib/python3.10/site-packages/pysus/ftp/databases/sia.py:100\u001b[0m, in \u001b[0;36mSIA.get_files\u001b[0;34m(self, group, uf, year, month)\u001b[0m\n\u001b[1;32m     94\u001b[0m \u001b[38;5;28;01mif\u001b[39;00m \u001b[38;5;129;01mnot\u001b[39;00m \u001b[38;5;28mall\u001b[39m(gr \u001b[38;5;129;01min\u001b[39;00m \u001b[38;5;28mlist\u001b[39m(\u001b[38;5;28mself\u001b[39m\u001b[38;5;241m.\u001b[39mgroups) \u001b[38;5;28;01mfor\u001b[39;00m gr \u001b[38;5;129;01min\u001b[39;00m groups):\n\u001b[1;32m     95\u001b[0m     \u001b[38;5;28;01mraise\u001b[39;00m \u001b[38;5;167;01mValueError\u001b[39;00m(\n\u001b[1;32m     96\u001b[0m         \u001b[38;5;124m\"\u001b[39m\u001b[38;5;124mUnknown SIA Group(s): \u001b[39m\u001b[38;5;124m\"\u001b[39m\n\u001b[1;32m     97\u001b[0m         \u001b[38;5;124mf\u001b[39m\u001b[38;5;124m\"\u001b[39m\u001b[38;5;132;01m{\u001b[39;00m\u001b[38;5;28mset\u001b[39m(groups)\u001b[38;5;241m.\u001b[39mdifference(\u001b[38;5;28mlist\u001b[39m(\u001b[38;5;28mself\u001b[39m\u001b[38;5;241m.\u001b[39mgroups))\u001b[38;5;132;01m}\u001b[39;00m\u001b[38;5;124m\"\u001b[39m\n\u001b[1;32m     98\u001b[0m     )\n\u001b[0;32m--> 100\u001b[0m files \u001b[38;5;241m=\u001b[39m \u001b[38;5;28;43mlist\u001b[39;49m\u001b[43m(\u001b[49m\u001b[38;5;28;43mfilter\u001b[39;49m\u001b[43m(\u001b[49m\u001b[38;5;28;43;01mlambda\u001b[39;49;00m\u001b[43m \u001b[49m\u001b[43mf\u001b[49m\u001b[43m:\u001b[49m\u001b[43m \u001b[49m\u001b[38;5;28;43mself\u001b[39;49m\u001b[38;5;241;43m.\u001b[39;49m\u001b[43mformat\u001b[49m\u001b[43m(\u001b[49m\u001b[43mf\u001b[49m\u001b[43m)\u001b[49m\u001b[43m[\u001b[49m\u001b[38;5;241;43m0\u001b[39;49m\u001b[43m]\u001b[49m\u001b[43m \u001b[49m\u001b[38;5;129;43;01min\u001b[39;49;00m\u001b[43m \u001b[49m\u001b[43mgroups\u001b[49m\u001b[43m,\u001b[49m\u001b[43m \u001b[49m\u001b[43mfiles\u001b[49m\u001b[43m)\u001b[49m\u001b[43m)\u001b[49m\n\u001b[1;32m    102\u001b[0m \u001b[38;5;28;01mif\u001b[39;00m uf:\n\u001b[1;32m    103\u001b[0m     ufs \u001b[38;5;241m=\u001b[39m parse_UFs(uf)\n",
      "File \u001b[0;32m~/.local/lib/python3.10/site-packages/pysus/ftp/databases/sia.py:100\u001b[0m, in \u001b[0;36mSIA.get_files.<locals>.<lambda>\u001b[0;34m(f)\u001b[0m\n\u001b[1;32m     94\u001b[0m \u001b[38;5;28;01mif\u001b[39;00m \u001b[38;5;129;01mnot\u001b[39;00m \u001b[38;5;28mall\u001b[39m(gr \u001b[38;5;129;01min\u001b[39;00m \u001b[38;5;28mlist\u001b[39m(\u001b[38;5;28mself\u001b[39m\u001b[38;5;241m.\u001b[39mgroups) \u001b[38;5;28;01mfor\u001b[39;00m gr \u001b[38;5;129;01min\u001b[39;00m groups):\n\u001b[1;32m     95\u001b[0m     \u001b[38;5;28;01mraise\u001b[39;00m \u001b[38;5;167;01mValueError\u001b[39;00m(\n\u001b[1;32m     96\u001b[0m         \u001b[38;5;124m\"\u001b[39m\u001b[38;5;124mUnknown SIA Group(s): \u001b[39m\u001b[38;5;124m\"\u001b[39m\n\u001b[1;32m     97\u001b[0m         \u001b[38;5;124mf\u001b[39m\u001b[38;5;124m\"\u001b[39m\u001b[38;5;132;01m{\u001b[39;00m\u001b[38;5;28mset\u001b[39m(groups)\u001b[38;5;241m.\u001b[39mdifference(\u001b[38;5;28mlist\u001b[39m(\u001b[38;5;28mself\u001b[39m\u001b[38;5;241m.\u001b[39mgroups))\u001b[38;5;132;01m}\u001b[39;00m\u001b[38;5;124m\"\u001b[39m\n\u001b[1;32m     98\u001b[0m     )\n\u001b[0;32m--> 100\u001b[0m files \u001b[38;5;241m=\u001b[39m \u001b[38;5;28mlist\u001b[39m(\u001b[38;5;28mfilter\u001b[39m(\u001b[38;5;28;01mlambda\u001b[39;00m f: \u001b[38;5;28;43mself\u001b[39;49m\u001b[38;5;241;43m.\u001b[39;49m\u001b[43mformat\u001b[49m\u001b[43m(\u001b[49m\u001b[43mf\u001b[49m\u001b[43m)\u001b[49m[\u001b[38;5;241m0\u001b[39m] \u001b[38;5;129;01min\u001b[39;00m groups, files))\n\u001b[1;32m    102\u001b[0m \u001b[38;5;28;01mif\u001b[39;00m uf:\n\u001b[1;32m    103\u001b[0m     ufs \u001b[38;5;241m=\u001b[39m parse_UFs(uf)\n",
      "File \u001b[0;32m~/.local/lib/python3.10/site-packages/pysus/ftp/databases/sia.py:75\u001b[0m, in \u001b[0;36mSIA.format\u001b[0;34m(self, file)\u001b[0m\n\u001b[1;32m     73\u001b[0m \u001b[38;5;28;01mif\u001b[39;00m file\u001b[38;5;241m.\u001b[39mextension\u001b[38;5;241m.\u001b[39mupper() \u001b[38;5;129;01min\u001b[39;00m [\u001b[38;5;124m\"\u001b[39m\u001b[38;5;124m.DBC\u001b[39m\u001b[38;5;124m\"\u001b[39m, \u001b[38;5;124m\"\u001b[39m\u001b[38;5;124m.DBF\u001b[39m\u001b[38;5;124m\"\u001b[39m]:\n\u001b[1;32m     74\u001b[0m     digits \u001b[38;5;241m=\u001b[39m \u001b[38;5;124m'\u001b[39m\u001b[38;5;124m'\u001b[39m\u001b[38;5;241m.\u001b[39mjoin([d \u001b[38;5;28;01mfor\u001b[39;00m d \u001b[38;5;129;01min\u001b[39;00m file\u001b[38;5;241m.\u001b[39mname \u001b[38;5;28;01mif\u001b[39;00m d\u001b[38;5;241m.\u001b[39misdigit()])\n\u001b[0;32m---> 75\u001b[0m     chars, _ \u001b[38;5;241m=\u001b[39m file\u001b[38;5;241m.\u001b[39mname\u001b[38;5;241m.\u001b[39msplit(digits)\n\u001b[1;32m     76\u001b[0m     year, month \u001b[38;5;241m=\u001b[39m digits[:\u001b[38;5;241m2\u001b[39m], digits[\u001b[38;5;241m2\u001b[39m:]\n\u001b[1;32m     77\u001b[0m     group, _uf \u001b[38;5;241m=\u001b[39m chars[:\u001b[38;5;241m-\u001b[39m\u001b[38;5;241m2\u001b[39m]\u001b[38;5;241m.\u001b[39mupper(), chars[\u001b[38;5;241m-\u001b[39m\u001b[38;5;241m2\u001b[39m:]\u001b[38;5;241m.\u001b[39mupper()\n",
      "\u001b[0;31mValueError\u001b[0m: not enough values to unpack (expected 2, got 1)"
     ]
    }
   ],
   "source": [
    "\n",
    "arquivos = sia.get_files(\"AB\", uf=\"PR\", year=2020)\n",
    "print(f\"Arquivos para {federacao}: {arquivos}\")\n",
    "if arquivos:\n",
    "    lista_SIA_temp.extend(arquivos)\n",
    "\n",
    "lista_SIA = lista_SIA_temp\n",
    "\n",
    "error_list = []\n",
    "\n",
    "for arquivo in lista_SIA:\n",
    "    if arquivo:\n",
    "        try:\n",
    "            sia.download(arquivo)\n",
    "            print(\"Baixado com sucesso: \" + str(arquivo))\n",
    "        except AttributeError as e:\n",
    "            error_list.append(f\"Erro ao baixar {arquivo}: {e}\")\n",
    "        except Exception as e:\n",
    "            error_list.append(f\"Erro inesperado ao baixar {arquivo}: {e}\")\n",
    "\n",
    "# Print any errors encountered during download\n",
    "if error_list:\n",
    "    for error in error_list:\n",
    "        print(error)\n",
    "\n"
   ]
  }
 ],
 "metadata": {
  "kernelspec": {
   "display_name": "Python 3",
   "language": "python",
   "name": "python3"
  },
  "language_info": {
   "codemirror_mode": {
    "name": "ipython",
    "version": 3
   },
   "file_extension": ".py",
   "mimetype": "text/x-python",
   "name": "python",
   "nbconvert_exporter": "python",
   "pygments_lexer": "ipython3",
   "version": "3.10.12"
  }
 },
 "nbformat": 4,
 "nbformat_minor": 2
}
